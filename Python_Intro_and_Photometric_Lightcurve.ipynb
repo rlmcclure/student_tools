{
  "nbformat": 4,
  "nbformat_minor": 0,
  "metadata": {
    "colab": {
      "provenance": [],
      "toc_visible": true,
      "authorship_tag": "ABX9TyOtaxviKiWbkLnBUwQAWBWr",
      "include_colab_link": true
    },
    "kernelspec": {
      "name": "python3",
      "display_name": "Python 3"
    },
    "language_info": {
      "name": "python"
    }
  },
  "cells": [
    {
      "cell_type": "markdown",
      "metadata": {
        "id": "view-in-github",
        "colab_type": "text"
      },
      "source": [
        "<a href=\"https://colab.research.google.com/github/rlmcclure/student_tools/blob/main/Python_Intro_and_Photometric_Lightcurve.ipynb\" target=\"_parent\"><img src=\"https://colab.research.google.com/assets/colab-badge.svg\" alt=\"Open In Colab\"/></a>"
      ]
    },
    {
      "cell_type": "markdown",
      "source": [
        "**Author:** Rachel Lee McClure - September 2025"
      ],
      "metadata": {
        "id": "SlhE0EfsJrzJ"
      }
    },
    {
      "cell_type": "markdown",
      "source": [
        "# Interacting with iPython Notebooks\n",
        "This first part of the notebook introduces you to basic python skills."
      ],
      "metadata": {
        "id": "kaKLFLE6irRz"
      }
    },
    {
      "cell_type": "code",
      "source": [
        "# What you're reading right now is a python code cell in an ipython notebook\n",
        "\n",
        "# Add a cell below this by clicking outside the text box and typing 'b'"
      ],
      "metadata": {
        "id": "DUM4-VLLmRjl"
      },
      "execution_count": null,
      "outputs": []
    },
    {
      "cell_type": "code",
      "source": [
        "# You should have a cell between this and the one above,\n",
        "#   now try clicking outside the text boxes and typing 'a'\n",
        "\n",
        "# These all-text lines that start with a #-mark are called \"comments\" as they\n",
        "#   the hashmark tells the code to ignore the following text. They're useful!\n",
        "#   You can quickly comment or uncomment a line by cmd+/ or alt+/, toggle these\n",
        "#   to try that out on the line below.\n",
        "\n",
        "# print('Hello World!')\n",
        "\n",
        "# While it is uncommented, hit shift+enter to run this cell!"
      ],
      "metadata": {
        "id": "dlvt2e6Lmmaf"
      },
      "execution_count": null,
      "outputs": []
    },
    {
      "cell_type": "markdown",
      "source": [
        "Above here, you now have your first code-cell output!\n",
        "\n",
        "Click in this cell, even though it's formatted as text, instead of code, it's still a cell in the notebook and you can progress through it by \"running\" the cell, as you did above. This time try typing `opt+enter` or `alt+enter`, one of these options should run the cell & populate a new cell below for you to type code into."
      ],
      "metadata": {
        "id": "XiawD4A3nssN"
      }
    },
    {
      "cell_type": "markdown",
      "source": [
        "To run a cell without moving out of the cell, you can use `cmd+enter`. If you hover over the middle cell edge, you'll have buttons to make new cells as well. View the default keyboard shortcuts anytime with `ctrl+M+H`.\n",
        "\n",
        "To run the whole notebook, you can click \"Run all\" at the top. This will error out until you have filled in some things but it's useful to know that option is there. This is also where you can **restart** the kernel that your python is running on."
      ],
      "metadata": {
        "id": "hMwe6HUlobP9"
      }
    },
    {
      "cell_type": "code",
      "source": [
        "print(this will error) #comment this out to move forward, or just go to the next cell"
      ],
      "metadata": {
        "id": "KdDTe-Kw4aXu"
      },
      "execution_count": null,
      "outputs": []
    },
    {
      "cell_type": "markdown",
      "source": [
        "### Basic Python Intro"
      ],
      "metadata": {
        "id": "ydFfgV5un-Zq"
      }
    },
    {
      "cell_type": "markdown",
      "source": [
        "#### 1. Variables\n"
      ],
      "metadata": {
        "id": "DkM20AKuI6pP"
      }
    },
    {
      "cell_type": "code",
      "source": [
        "# A variable is just a \"name\" we give to store information.\n",
        "# Try editing the number below and running the cell.\n",
        "x = 5\n",
        "print(x)"
      ],
      "metadata": {
        "id": "OHEnlK2MoL15"
      },
      "execution_count": null,
      "outputs": []
    },
    {
      "cell_type": "code",
      "source": [
        "# The final line of an ipython notebook cell will implicitly be printed.\n",
        "# Try running this cell so that you can see the output is the same as above.\n",
        "x"
      ],
      "metadata": {
        "id": "ww1ACXH7qsoS"
      },
      "execution_count": null,
      "outputs": []
    },
    {
      "cell_type": "markdown",
      "source": [
        "#### 2. Math with variables\n"
      ],
      "metadata": {
        "id": "Y9fdmS7FJCEE"
      }
    },
    {
      "cell_type": "code",
      "source": [
        "# Python can do math just like a calculator.\n",
        "a = 10\n",
        "b = 3\n",
        "print(a + b)   # addition\n",
        "print(a - b)   # subtraction\n",
        "print(a * b)   # multiplication\n",
        "print(a / b)   # division"
      ],
      "metadata": {
        "id": "y-HvDDJDn0n1"
      },
      "execution_count": null,
      "outputs": []
    },
    {
      "cell_type": "markdown",
      "source": [
        "The values you used in the calculations above could all be what we call `integer` values, or an `int`. Numerical values are typically stored as a `floats` and the precision of the number (the number of digits that are stored) can store as either single precision `float32` with 7 digits of accuracy and a smaller memory load, or the standard `float64` double precision values with 15-17 digits of precision. Floats can also handle infinities and `nan` for not a number values. The final value is clearly a `float` due to the decimal places, unless you specify that it is a float, any number without decimals can typically act as either an integer `int` or a `float`."
      ],
      "metadata": {
        "id": "BE4rQCoIs5V5"
      }
    },
    {
      "cell_type": "code",
      "source": [
        "# Exercise: Try changing a and b, and using ** as an operator\n",
        "#  Make a new variable, c, from the output in terms of a and b.\n",
        "#  You're in a different cell but the whole notebook is one unit,\n",
        "#  whatever you've already run you is available within the memory of\n",
        "#  the active python kernel that is running!\n",
        "\n",
        "c ="
      ],
      "metadata": {
        "id": "qMS0G4Y8qJxC"
      },
      "execution_count": null,
      "outputs": []
    },
    {
      "cell_type": "code",
      "source": [
        "# You can check the type of a value by calling obj with the method \"type()\":\n",
        "print(a,type(a))\n",
        "print(a/3,type(a/3))\n",
        "\n",
        "# Try this on a few other variables you've made so far:\n",
        "print()"
      ],
      "metadata": {
        "id": "zkzSTVItNhPd"
      },
      "execution_count": null,
      "outputs": []
    },
    {
      "cell_type": "markdown",
      "source": [
        "Edit this text cell and describe what `**` is as an operator in normal math terms:\n",
        "\n",
        "[edit here]\n"
      ],
      "metadata": {
        "id": "pyYcBHyJrRHF"
      }
    },
    {
      "cell_type": "code",
      "source": [
        "# Exercise: Now bring in your earlier variable, x, & fill in a new calculation:\n",
        "\n",
        "value =\n",
        "print(value)"
      ],
      "metadata": {
        "id": "nhfe7-wFqNs_"
      },
      "execution_count": null,
      "outputs": []
    },
    {
      "cell_type": "markdown",
      "source": [
        "In the bottom right of your screen, there's a \"Terminal\" and a \"Variables\" set of buttons.\n",
        "*   The Terminal button will open an interface where you can interface with the computer (in this case your colab space) without clicking through menus.\n",
        "*   The Variables button will pop up a menu that shows you what variables have been defined at any point through the cells you have already run in this notebook.\n",
        "\n",
        "Open up the Variables tab so you can see what you currently have defined.\n",
        "\n",
        "Check out the current values of your variables, you'll have the `a` and `b` from above, but also `c` and `value` as calculated. Head back up and change your value for `a`, run that cell. Note, do the later variables update automatically based on the new value of `a`?"
      ],
      "metadata": {
        "id": "jzQ42R21v1Oo"
      }
    },
    {
      "cell_type": "code",
      "source": [
        "# An imporant caveat to using ipython (jupyter) notebooks or interactive python\n",
        "#  cells in any context is that things can be run *out of order* and still \"work\"\n",
        "#  A thing to be very careful about with that is that you may redefine variables\n",
        "#  later in the notebook with the same name, and then rerun an earlier cell\n",
        "#  leading to unintended consequences. Try that here on purpose:\n",
        "\n",
        "b =\n",
        "\n",
        "# Set a new value for b and rerun the cell where you defined `c` above. Keep an\n",
        "#  eye on the Variables tab to see the current values. You can also always print\n",
        "\n",
        "print(c)"
      ],
      "metadata": {
        "id": "t0bGhA4OEXXk"
      },
      "execution_count": null,
      "outputs": []
    },
    {
      "cell_type": "markdown",
      "source": [
        "#### 3. Strings (words/text)\n"
      ],
      "metadata": {
        "id": "pwioIJqyJGuo"
      }
    },
    {
      "cell_type": "code",
      "source": [
        "# Text is written inside quotes. Python calls this a \"string\".\n",
        "greeting = \"Hello, student!\"\n",
        "print(greeting)\n",
        "\n",
        "# We see here that variables do not have to be only be numbers, they're objects!"
      ],
      "metadata": {
        "id": "RM50ffTPp_I6"
      },
      "execution_count": null,
      "outputs": []
    },
    {
      "cell_type": "markdown",
      "source": [
        "#### 4. Lists\n"
      ],
      "metadata": {
        "id": "YtcYBs2wJK9r"
      }
    },
    {
      "cell_type": "code",
      "source": [
        "# A list holds multiple values in order. Use [ ] brackets.\n",
        "somenumbers = [1, 2.231, 3, 4, 5.3]\n",
        "print(somenumbers)\n",
        "\n",
        "# Exercise: Edit this cell and another number to the list.\n"
      ],
      "metadata": {
        "id": "tapwg7SqrvWx"
      },
      "execution_count": null,
      "outputs": []
    },
    {
      "cell_type": "code",
      "source": [
        "# To print a specific value from this list variable, we can index in [brackets]\n",
        "# Read the text below, which of the above values do you think will print?\n",
        "print(somenumbers[1])\n"
      ],
      "metadata": {
        "id": "7c0vqKsZr3Zh"
      },
      "execution_count": null,
      "outputs": []
    },
    {
      "cell_type": "code",
      "source": [
        "# You'll see now that python counts from 0!\n",
        "# Try changing the index to print a few different numbers from your list.\n",
        "print(somenumbers[])\n"
      ],
      "metadata": {
        "id": "ojwMUhIrsH58"
      },
      "execution_count": null,
      "outputs": []
    },
    {
      "cell_type": "code",
      "source": [
        "# You can also index from the end of the list, like counting backwards.\n",
        "#  Change the variable 'ind' below to other negative numbers and to a variety\n",
        "#  of numbers and run this cell to practice indexing. Try to find\n",
        "#  where it doesn't work (e.g., try an index longer than the list length or a float)\n",
        "\n",
        "ind = -1\n",
        "print(somenumbers[ind])"
      ],
      "metadata": {
        "id": "TfcKKO-wsTKO"
      },
      "execution_count": null,
      "outputs": []
    },
    {
      "cell_type": "markdown",
      "source": [
        "#### 5. Dictionaries\n"
      ],
      "metadata": {
        "id": "-XFr6KWGJNyS"
      }
    },
    {
      "cell_type": "code",
      "source": [
        "# A dictionary holds values that are not ordered, but are indexed directly\n",
        "aboutcat = {'weight':12,'color':'orange','age':5.4,'treats':['leaf','bug'],\n",
        "            0:'0th information about this cat', 87:3826923.3, 'name':'Percy'}\n",
        "\n",
        "# Try various ways of indexing your dictionary:\n",
        "# aboutcat[un-comment this line and check through the values to see what works]"
      ],
      "metadata": {
        "id": "vP4nz_if1712"
      },
      "execution_count": null,
      "outputs": []
    },
    {
      "cell_type": "markdown",
      "source": [
        "#### 6. Functions\n"
      ],
      "metadata": {
        "id": "lO7MTHiIJQnz"
      }
    },
    {
      "cell_type": "code",
      "source": [
        "# Functions are reusable \"mini-programs\". They take inputs and return outputs.\n",
        "def square(n):\n",
        "  return (n * n)\n",
        "\n",
        "print(square(4))\n",
        "\n",
        "# Generally, indexing of objects occurs with the square brackets []\n",
        "#  while functions are called an argument within the parenthesis ()\n",
        "\n",
        "# Exercise: Uncomment and complete the function to create a cube(n) below!\n",
        "# def cube(n):\n",
        "#   return()\n",
        "# print(cube(1.998))"
      ],
      "metadata": {
        "id": "R0bSJpw7vIRs"
      },
      "execution_count": null,
      "outputs": []
    },
    {
      "cell_type": "markdown",
      "source": [
        "# Lightcurve Notebook Setup\n",
        "We will now walk through importing useful packages, exploring data, some useful python actions/tools, and then plotting a lightcurve with the photometric data you obtained through AstroImageJ."
      ],
      "metadata": {
        "id": "oYLFXazjh2VA"
      }
    },
    {
      "cell_type": "markdown",
      "source": [
        "### Setup and Import Packages\n"
      ],
      "metadata": {
        "id": "5O1bOLmAJUHx"
      }
    },
    {
      "cell_type": "code",
      "execution_count": null,
      "metadata": {
        "id": "TsNUxeOYhgAP"
      },
      "outputs": [],
      "source": [
        "import numpy as np\n",
        "'''\n",
        "numpy: This is a numerical python package or library that is useful for data\n",
        "  processing and analysis. Everything I've ever done has probably used numpy.\n",
        "  the \"as np\" means we will access the functions within by calling \"np.FUNCTION\"\n",
        "'''\n",
        "import matplotlib.pyplot as plt\n",
        "'''\n",
        "pyplot: This is a module within matplotlib, a library that mimics MATLAB-style\n",
        "  commands for plotting. This is the backbone of most plotting libraries you'll\n",
        "  ever encounter in python. As above, we give it a shorter name to call it \"plt\"\n",
        "'''\n",
        "from astropy.io import ascii\n",
        "'''\n",
        "astropy: This is a core library for working with astronomy data in python that\n",
        "  has built in tools for units, coordinates, time, etc. Here we're accessing\n",
        "  specifically an import/output (io) module, the ascii module, that facilitates\n",
        "  import of a variety of data types.\n",
        "'''\n",
        "\n",
        "#If any of these imports were to fail, you then need to install the package with\n",
        "#  the terminal on the machine you're using. You do this typically with some\n",
        "#  simple commands. The simplest tends to be to type 'pip install PACKAGENAME'\n",
        "#  but for today, you shouldnt have to run into any new installs (I hope).\n",
        "#  If you do, in colab you need to add a ! before, e.g. '!pip install astropy'\n",
        "#  or you can do it in the Terminal, as opened from the bottom left button."
      ]
    },
    {
      "cell_type": "markdown",
      "source": [
        "### Load & explore your data!"
      ],
      "metadata": {
        "id": "0TdwmxnamHrS"
      }
    },
    {
      "cell_type": "code",
      "source": [
        "# Run this cell\n",
        "# Upload your Table.tbl & the provided Table2.tbl using the file upload button that appears\n",
        "from google.colab import files\n",
        "uploaded = files.upload() # this lets you upload to your colab space"
      ],
      "metadata": {
        "id": "Cv0BGsMXioti"
      },
      "execution_count": null,
      "outputs": []
    },
    {
      "cell_type": "code",
      "source": [
        "# Now, we'll read the uploaded file (named 'Table.tbl') into a variable 'data'\n",
        "data = ascii.read(\"Table.tbl\")"
      ],
      "metadata": {
        "id": "U3zF481_LlEp"
      },
      "execution_count": null,
      "outputs": []
    },
    {
      "cell_type": "code",
      "source": [
        "# To find out how ascii decided to take the data in, we can ask python about the\n",
        "#  variable with a couple key commands. Run this cell to find out its \"type()\":\n",
        "type(data)"
      ],
      "metadata": {
        "id": "lh4TTKUDyYCj"
      },
      "execution_count": null,
      "outputs": []
    },
    {
      "cell_type": "markdown",
      "source": [
        "Skim through that infomation. You can expand and contract the output by clicking on the text. The data object above is an astropy.Table class that includes your loaded data file, as well as a set of functions that can be used to make chages to the table itself."
      ],
      "metadata": {
        "id": "ZxSwioBULXHp"
      }
    },
    {
      "cell_type": "code",
      "source": [
        "# There are some python basic functions that will be helpful often.\n",
        "#  Generally, variables are objects, `obj`. The len() function will tell you\n",
        "#  the length of the data as it returns the number of items in the object. Try:\n",
        "help(len)"
      ],
      "metadata": {
        "id": "yoO9gveLzKhG"
      },
      "execution_count": null,
      "outputs": []
    },
    {
      "cell_type": "code",
      "source": [
        "# Now print the lenght of the dataset:\n",
        "print(len(data))\n",
        "\n",
        "# And we can check if the dimensionality of the data with the numpy `shape`:\n",
        "print(np.shape(data))"
      ],
      "metadata": {
        "id": "vIkbkRkWzn9p"
      },
      "execution_count": null,
      "outputs": []
    },
    {
      "cell_type": "code",
      "source": [
        "# Now try the also always useful \"help()\" function fyi: this output will be long\n",
        "# It is going to pull the help informaiton for the type of object `data` is:\n",
        "help(data)"
      ],
      "metadata": {
        "id": "S0XpsOqnyxe-"
      },
      "execution_count": null,
      "outputs": []
    },
    {
      "cell_type": "markdown",
      "source": [
        "As you scroll through you'll find that there are functions built into the `Table` object that the data was loaded into your notebook as. This means that you can call certain aspects of the data directly, as you will do below, or you can act on the data with built in functions."
      ],
      "metadata": {
        "id": "rB2ft2n5zDyE"
      }
    },
    {
      "cell_type": "code",
      "source": [
        "# Let's inspect the data.\n",
        "print(data)"
      ],
      "metadata": {
        "id": "5P-lVqaQhmP4"
      },
      "execution_count": null,
      "outputs": []
    },
    {
      "cell_type": "code",
      "source": [
        "# Let's jump a bit into the guts of the Table and see the dictionary within\n",
        "print(data.__dict__)\n",
        "\n",
        "# The functions of the astropy Table class are inherited by your `data` object\n",
        "#  and these functions act on this dictionary to interact with the data within"
      ],
      "metadata": {
        "id": "c0-8olvGRNCW"
      },
      "execution_count": null,
      "outputs": []
    },
    {
      "cell_type": "code",
      "source": [
        "# Let's go ahead and print the column names to start\n",
        "print(data.colnames)"
      ],
      "metadata": {
        "id": "YQ8qpZucPQ8g"
      },
      "execution_count": null,
      "outputs": []
    },
    {
      "cell_type": "code",
      "source": [
        "# With the column names, we can index and select that information directly\n",
        "#  by the column names (as string values) as we did with Dictionaries earlier.\n",
        "#  Let's check the Labels of our rows in our data sets to see what we have:\n",
        "\n",
        "data['Label']"
      ],
      "metadata": {
        "id": "t2lymsC2RX5s"
      },
      "execution_count": null,
      "outputs": []
    },
    {
      "cell_type": "code",
      "source": [
        "# Explore more of the data columns below. Notice when you click to fill in the\n",
        "#  brackets with a string index, it suggests the values available in a popup.\n",
        "data[]"
      ],
      "metadata": {
        "id": "ol2t57kg3RK1"
      },
      "execution_count": null,
      "outputs": []
    },
    {
      "cell_type": "code",
      "source": [
        "# For the rows, we use numbers. Now print the first data row by indexing [0]:\n",
        "data[0]"
      ],
      "metadata": {
        "id": "aykA9nwy0isi"
      },
      "execution_count": null,
      "outputs": []
    },
    {
      "cell_type": "code",
      "source": [
        "# Now print the first five data rows by indexing [:5]\n",
        "data[:5]"
      ],
      "metadata": {
        "id": "AYYYCHc40rSW"
      },
      "execution_count": null,
      "outputs": []
    },
    {
      "cell_type": "code",
      "source": [
        "# Exercise: Print below the last 7 rows of the dataset by indexing, try stuff!\n"
      ],
      "metadata": {
        "id": "wKb1_6Mt01tz"
      },
      "execution_count": null,
      "outputs": []
    },
    {
      "cell_type": "markdown",
      "source": [
        "You've now explored indexing your photometric data with both the string index headers and numerically through the individual rows.\n",
        "\n",
        "Have a look through the columns again and try to identify relevant pieces of your data so that you can plot the information that you extracted through the differential photometry exercise last week:"
      ],
      "metadata": {
        "id": "wOiMpK7K3hpg"
      }
    },
    {
      "cell_type": "code",
      "source": [
        "from astropy.time import Time #import the time module from astropy for dates\n",
        "\n",
        "# Extract MJD-like times\n",
        "mjd_times = data['J.D.-2400000']\n",
        "\n",
        "# Convert to full Julian Date (JD)\n",
        "jd_times = mjd_times + 2400000.5  # add 2400000.5 if you want exact JD\n",
        "\n",
        "# Convert to datetime objects for plotting\n",
        "time_datetime = Time(jd_times, format='jd').to_datetime()\n",
        "days_since_start = jd_times - jd_times[0] #adjust to start of observation as 0"
      ],
      "metadata": {
        "id": "ovgoZb-SeyR4"
      },
      "execution_count": null,
      "outputs": []
    },
    {
      "cell_type": "code",
      "source": [
        "# Now, let's make your light curve\n",
        "time = time_datetime #data['J.D.-2400000'] # this is the adjusted Julian Date\n",
        "flux = data['rel_flux_T1']# input the column name of the relative flux of your target \"T1\"\n",
        "err = data['rel_flux_err_T1'] # find the error on the flux\n",
        "\n",
        "plt.figure(figsize=(10,5)) # initalizing the figure\n",
        "plt.scatter(time, flux, c='black',s=2) # plotting the time on the x-axis, flux on the y-axis\n",
        "# plt.errorbar(time,flux,err,capsize=2,lw=0)\n",
        "plt.xlabel(\"Time [J.D.-2400000]\") # labeling our plot on the x-axis\n",
        "plt.ylabel(\"Flux [what are our units?]\") # labeling our plot on the y-axis\n",
        "plt.title(\"Light Curve of Target AM Her\") # titling our plot\n",
        "plt.grid(alpha=.4) # add a grid, alpha sets the opacity of those lines\n",
        "# plt.savefig('[yourname]_AMHer_LC.png') # once you're ready to save, uncomment!\n",
        "plt.show() # telling plt that we're ready to show the plot!\n"
      ],
      "metadata": {
        "id": "SNhwnzs8iAJV"
      },
      "execution_count": null,
      "outputs": []
    },
    {
      "cell_type": "markdown",
      "source": [
        "It appears we're not seeing a full periodic pattern yet. Let's grab some more data for this star and stack that in here as well."
      ],
      "metadata": {
        "id": "m_Kyss8Eqt2s"
      }
    },
    {
      "cell_type": "code",
      "source": [
        "from astropy.table import vstack\n",
        "\n",
        "# Start with just the One More Observation set:\n",
        "data_plus = vstack([data,ascii.read(\"one_more_obsv.tbl\")])"
      ],
      "metadata": {
        "id": "ArCBw4Xhr0V-"
      },
      "execution_count": null,
      "outputs": []
    },
    {
      "cell_type": "code",
      "source": [
        "mjd_times = data_plus['J.D.-2400000']\n",
        "jd_times = mjd_times + 2400000.5  # add 2400000.5 if you want exact JD\n",
        "time_datetime = Time(jd_times, format='jd').to_datetime()\n",
        "days_since_start = jd_times - jd_times[0] #adjust to start of observation as 0\n",
        "\n",
        "# Now, let's make a fuller light curve\n",
        "time = time_datetime #data['J.D.-2400000'] # this is the adjusted Julian Date\n",
        "flux = data_plus['rel_flux_T1']# input the column name of the relative flux of your target \"T1\"\n",
        "err = data_plus['rel_flux_err_T1'] # find the error on the flux\n",
        "\n",
        "plt.figure(figsize=(10,5)) # initalizing the figure\n",
        "plt.scatter(time, flux, c='black',s=2) # plotting the time on the x-axis, flux on the y-axis\n",
        "# plt.errorbar(time,flux,err,capsize=2,lw=0)\n",
        "plt.xlabel(\"Time [J.D.-2400000]\") # labeling our plot on the x-axis\n",
        "plt.ylabel(\"Flux [what are our units?]\") # labeling our plot on the y-axis\n",
        "plt.title(\"Light Curve of Target AM Her\") # titling our plot\n",
        "plt.grid(alpha=.4) # add a grid, alpha sets the opacity of those lines\n",
        "# plt.savefig('[yourname]_AMHer_LC.png') # once you're ready to save, uncomment!\n",
        "plt.show() # telling plt that we're ready to show the plot!"
      ],
      "metadata": {
        "id": "Ei_8zmDmsD9r"
      },
      "execution_count": null,
      "outputs": []
    },
    {
      "cell_type": "markdown",
      "source": [
        "Here, we're now clearly seeing the variability in our target!"
      ],
      "metadata": {
        "id": "VnS1Lxxpvf9_"
      }
    },
    {
      "cell_type": "code",
      "source": [
        "# We'll now switch to the longer, fuller data set\n",
        "data_long = vstack([data,ascii.read(\"more_data.tbl\")])\n",
        "\n",
        "# Adjust the times\n",
        "mjd_times = data_long['J.D.-2400000']\n",
        "jd_times = mjd_times + 2400000.5  # add 2400000.5 if you want exact JD\n",
        "time_datetime = Time(jd_times, format='jd').to_datetime()\n",
        "days_since_start = jd_times - jd_times[0] #adjust to start of observation as 0\n",
        "\n",
        "# Now, let's make our full light curve\n",
        "time = time_datetime #data['J.D.-2400000'] # this is the adjusted Julian Date\n",
        "flux = data_long['rel_flux_T1']# input the column name of the relative flux of your target \"T1\"\n",
        "err = data_long['rel_flux_err_T1'] # find the error on the flux\n",
        "\n",
        "plt.figure(figsize=(10,5)) # initalizing the figure\n",
        "plt.scatter(time, flux, c='black',s=2) # plotting the time on the x-axis, flux on the y-axis\n",
        "# plt.errorbar(time,flux,err,capsize=2,lw=0)\n",
        "plt.xlabel(\"Time [J.D.-2400000]\") # labeling our plot on the x-axis\n",
        "plt.ylabel(\"Flux [what are our units?]\") # labeling our plot on the y-axis\n",
        "plt.title(\"Light Curve of Target AM Her\") # titling our plot\n",
        "plt.grid(alpha=.4) # add a grid, alpha sets the opacity of those lines\n",
        "# plt.savefig('[yourname]_AMHer_LC.png') # once you're ready to save, uncomment!\n",
        "plt.show() # telling plt that we're ready to show the plot!"
      ],
      "metadata": {
        "id": "RFlX96HCvmSJ"
      },
      "execution_count": null,
      "outputs": []
    },
    {
      "cell_type": "markdown",
      "source": [
        "Now, we see that we have data over many observations. While the data looks more disjunct like this, we can extract the periodic information better since each sample has specific times associated with them."
      ],
      "metadata": {
        "id": "DJ2hOMQ6sOVa"
      }
    },
    {
      "cell_type": "code",
      "source": [
        "from astropy.timeseries import LombScargle\n",
        "'''\n",
        "The LombScargle searches through the data to determine the best power\n",
        "'''\n",
        "\n",
        "frequency, power = LombScargle(days_since_start, flux, err).autopower()\n",
        "best_freq = frequency[np.argmax(power)]\n",
        "period = 1 / best_freq\n",
        "print(\"Our best period fit is %.5f days\"%(period))\n",
        "# here, we're specifying to print a float 'f' with five decimal places\n",
        "#  within the print function to fill with the variable 'period'\n",
        "\n",
        "# How many hours does this correspond to? Go have a look\n",
        "#  at https://www.aavso.org/vsots_amher and read about this source.\n",
        "\n",
        "# How'd you do?"
      ],
      "metadata": {
        "id": "RqrAImzXGlG1"
      },
      "execution_count": null,
      "outputs": []
    },
    {
      "cell_type": "markdown",
      "source": [
        "## Revisiting the Eclipsing Binary\n"
      ],
      "metadata": {
        "id": "0DzccILDuyOr"
      }
    },
    {
      "cell_type": "code",
      "source": [
        "# Now let's quickly have an aside with the provided data you explored in Excel\n",
        "uploaded = files.upload() # this lets you upload to your colab space\n",
        "\n",
        "# read in the EB lightcurve file\n",
        "EBdata = ascii.read(\"EB_lightcurve_no_mags.csv\")"
      ],
      "metadata": {
        "id": "iLeuKBlfdncA"
      },
      "execution_count": null,
      "outputs": []
    },
    {
      "cell_type": "code",
      "source": [
        "# From what you learned above and in the earlier exercise in excel, make\n",
        "#  another lightcurve. This time for this eclipsing binary stellar data!"
      ],
      "metadata": {
        "id": "nVn5xGcYumNB"
      },
      "execution_count": null,
      "outputs": []
    },
    {
      "cell_type": "markdown",
      "source": [
        "## Once you're finished:\n",
        "Go to File>Print and save the file as a PDF for upload."
      ],
      "metadata": {
        "id": "FJlJxK_CGbMj"
      }
    }
  ]
}